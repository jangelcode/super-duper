{
  "nbformat": 4,
  "nbformat_minor": 0,
  "metadata": {
    "colab": {
      "name": "Income_guessing.ipynb",
      "provenance": [],
      "toc_visible": true,
      "include_colab_link": true
    },
    "kernelspec": {
      "name": "python3",
      "display_name": "Python 3"
    }
  },
  "cells": [
    {
      "cell_type": "markdown",
      "metadata": {
        "id": "view-in-github",
        "colab_type": "text"
      },
      "source": [
        "<a href=\"https://colab.research.google.com/github/jangelcode/super-duper/blob/main/machinelearning/Income_guessing.ipynb\" target=\"_parent\"><img src=\"https://colab.research.google.com/assets/colab-badge.svg\" alt=\"Open In Colab\"/></a>"
      ]
    },
    {
      "cell_type": "code",
      "metadata": {
        "id": "vId47FpOBhOr"
      },
      "source": [
        "import numpy as np\n",
        "import os\n",
        "import io\n",
        "import pandas as pd\n",
        "import scipy.sparse\n",
        "import pickle\n",
        "import xgboost as xgb"
      ],
      "execution_count": null,
      "outputs": []
    },
    {
      "cell_type": "code",
      "metadata": {
        "id": "anUEx-7XHTVa"
      },
      "source": [
        "data = pd.read_csv('adult_ml.csv')\n",
        "data2 = pd.DataFrame(data)\n",
        "data.dtypes\n",
        "data"
      ],
      "execution_count": null,
      "outputs": []
    },
    {
      "cell_type": "code",
      "metadata": {
        "id": "_C_cMsHo98GT"
      },
      "source": [
        "data = pd.get_dummies(data,columns=[\"Workclass\", \"Education\", 'Marital_Status'], \n",
        "                      prefix=[\"Workclass\", \"Education\", 'Marital_Status']).head()\n",
        "data = pd.get_dummies(data,columns=[\"Relationship\", 'native_country', 'Occupation', 'Race'], \n",
        "                      prefix=[\"Relationship\", 'country', 'Occupation', 'Race']).head()"
      ],
      "execution_count": null,
      "outputs": []
    },
    {
      "cell_type": "code",
      "metadata": {
        "id": "NpF6mrfN5Mb4"
      },
      "source": [
        "data[\"Income\"] = np.where(data[\"Income\"].str.contains(\">50K\"), 1,0)\n",
        "data[\"Sex\"] = np.where(data[\"Sex\"].str.contains(\"Male\"), 1,0)"
      ],
      "execution_count": null,
      "outputs": []
    },
    {
      "cell_type": "code",
      "metadata": {
        "id": "DEADRAEQ7Ebw"
      },
      "source": [
        "data.dtypes"
      ],
      "execution_count": null,
      "outputs": []
    },
    {
      "cell_type": "code",
      "metadata": {
        "id": "qyAVcsvb3AK7"
      },
      "source": [
        "X, y = data.iloc[:,:-1],data.iloc[:,7]\n",
        "X\n",
        "y"
      ],
      "execution_count": null,
      "outputs": []
    },
    {
      "cell_type": "code",
      "metadata": {
        "id": "e_MOP8nCTBLD"
      },
      "source": [
        "from sklearn.model_selection import train_test_split\n",
        "\n",
        "X_train, X_test, y_train, y_test = train_test_split(X, y, test_size=0.2, random_state=1)\n",
        "\n",
        "X_train, X_val, y_train, y_val = train_test_split(X_train, y_train, test_size=0.2, random_state=1)"
      ],
      "execution_count": null,
      "outputs": []
    },
    {
      "cell_type": "code",
      "metadata": {
        "id": "T7-9B9yzBi2N"
      },
      "source": [
        "dtrain = xgb.DMatrix(X_train, y_train)\n",
        "dtest = xgb.DMatrix(X_test, y_test)\n",
        "dvalid = xgb.DMatrix(X_val, y_val)"
      ],
      "execution_count": null,
      "outputs": []
    },
    {
      "cell_type": "code",
      "metadata": {
        "id": "f4Dw2wQ_BlaX"
      },
      "source": [
        "param = {'max_depth':4, 'eta':1, 'objective':'binary:logistic'}"
      ],
      "execution_count": null,
      "outputs": []
    },
    {
      "cell_type": "code",
      "metadata": {
        "id": "gqh16wzoBpUN"
      },
      "source": [
        "watchlist = [(dvalid, 'eval'), (dtrain, 'train')]\n",
        "num_round = 2\n",
        "bst = xgb.train(param, dtrain, num_round, watchlist)"
      ],
      "execution_count": null,
      "outputs": []
    },
    {
      "cell_type": "code",
      "metadata": {
        "id": "oOFpzA9lBsoE"
      },
      "source": [
        "preds = bst.predict(dtest)\n",
        "labels = dtest.get_label()\n",
        "print('error=%f' % (sum(1 for i in range(len(preds)) if int(preds[i] > 0.5) != labels[i]) / float(len(preds))))\n",
        "bst.save_model('0001.model')"
      ],
      "execution_count": null,
      "outputs": []
    }
  ]
}